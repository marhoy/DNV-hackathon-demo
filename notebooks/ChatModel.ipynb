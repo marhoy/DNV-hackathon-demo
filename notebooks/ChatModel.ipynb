{
 "cells": [
  {
   "cell_type": "code",
   "execution_count": null,
   "metadata": {},
   "outputs": [],
   "source": [
    "%load_ext dotenv\n",
    "%dotenv secrets.env"
   ]
  },
  {
   "cell_type": "code",
   "execution_count": null,
   "metadata": {},
   "outputs": [],
   "source": [
    "from langchain_core.output_parsers import StrOutputParser\n",
    "from langchain_core.prompts import ChatPromptTemplate\n",
    "from langchain_core.runnables import RunnableLambda\n",
    "from langchain_openai import ChatOpenAI, AzureChatOpenAI\n",
    "\n",
    "# Choose either the OpenAI API\n",
    "llm = ChatOpenAI(\n",
    "    model=\"gpt-4-0125-preview\",\n",
    "    temperature=0,\n",
    "    model_kwargs={\"seed\": 42},\n",
    ")\n",
    "\n",
    "# ... or the Azure OpenAI API\n",
    "# llm = AzureChatOpenAI(\n",
    "#     model=\"gpt-4-turbo-128k-1106\",\n",
    "#     temperature=0,\n",
    "#     model_kwargs={\"seed\": 42},\n",
    "# )"
   ]
  },
  {
   "cell_type": "markdown",
   "metadata": {},
   "source": [
    "# Calling the LLM directly\n"
   ]
  },
  {
   "cell_type": "code",
   "execution_count": null,
   "metadata": {},
   "outputs": [],
   "source": [
    "llm.invoke(\"How are you?\")"
   ]
  },
  {
   "cell_type": "markdown",
   "metadata": {},
   "source": [
    "# Using an output parser in a LCEL chain\n",
    "\n",
    "Read about the Runnable interface in the [LCEL documentation](https://python.langchain.com/docs/expression_language/).\n"
   ]
  },
  {
   "cell_type": "code",
   "execution_count": null,
   "metadata": {},
   "outputs": [],
   "source": [
    "chain = llm | StrOutputParser()\n",
    "\n",
    "chain.invoke(\"How are you?\")"
   ]
  },
  {
   "cell_type": "markdown",
   "metadata": {},
   "source": [
    "# Using prompt templates\n"
   ]
  },
  {
   "cell_type": "code",
   "execution_count": null,
   "metadata": {},
   "outputs": [],
   "source": [
    "template = ChatPromptTemplate.from_messages(\n",
    "    [\n",
    "        (\"system\", \"You are an helpful assistant.\"),\n",
    "        (\"human\", \"Where was the Olympics held in 1994?\"),\n",
    "        (\"ai\", \"The 1994 Winter Olympics were held in Lillehammer, Norway.\"),\n",
    "        (\"human\", \"{question}\"),\n",
    "        (\"system\", \"Answer in {language}.\"),\n",
    "    ]\n",
    ")\n",
    "\n",
    "chain = template | llm | StrOutputParser()\n",
    "\n",
    "chain.invoke(\n",
    "    {\n",
    "        \"question\": \"Who won the 50k?\",\n",
    "        \"language\": \"Norwegian\",\n",
    "    }\n",
    ")"
   ]
  },
  {
   "cell_type": "markdown",
   "metadata": {},
   "source": [
    "# Revisiting the similarity measure\n"
   ]
  },
  {
   "cell_type": "code",
   "execution_count": null,
   "metadata": {},
   "outputs": [],
   "source": [
    "template = ChatPromptTemplate.from_messages(\n",
    "    [\n",
    "        (\n",
    "            \"system\",\n",
    "            (\n",
    "                \"You are measuring semantic text similarity.\"\n",
    "                \"You report a score between 0 and 1.\"\n",
    "            ),\n",
    "        ),\n",
    "        (\n",
    "            \"human\",\n",
    "            (\n",
    "                \"Below are some sentences. Compare them pairwise.\"\n",
    "                \"\\n\\n{formatted_sentences}\"\n",
    "            ),\n",
    "        ),\n",
    "    ]\n",
    ")\n",
    "\n",
    "\n",
    "def format_sentences(sentences: list[str]) -> str:\n",
    "    return \"\\n\".join(sentences)\n",
    "\n",
    "\n",
    "chain = (\n",
    "    {\"formatted_sentences\": RunnableLambda(format_sentences)}\n",
    "    | template\n",
    "    | llm\n",
    "    | StrOutputParser()\n",
    ")\n",
    "\n",
    "print(\n",
    "    chain.invoke(\n",
    "        [\n",
    "            \"That sounds like a good idea!\",\n",
    "            \"That does not sound like a good idea!\",\n",
    "            \"I like your proposal!\",\n",
    "        ]\n",
    "    )\n",
    ")"
   ]
  },
  {
   "cell_type": "markdown",
   "metadata": {},
   "source": [
    "# Producing structured output\n"
   ]
  },
  {
   "cell_type": "code",
   "execution_count": null,
   "metadata": {},
   "outputs": [],
   "source": [
    "from pydantic.v1 import BaseModel, Field\n",
    "\n",
    "\n",
    "class TextSimilarityResponse(BaseModel):\n",
    "    sentence_A: str = Field(description=\"Sentence A.\")\n",
    "    sentence_B: str = Field(description=\"Sentence B.\")\n",
    "    reason: str = Field(\n",
    "        description=\"The reason for the similarity score between A and B.\"\n",
    "    )\n",
    "    similarity_score: float = Field(description=\"The similarity score.\")\n",
    "\n",
    "\n",
    "class TextSimilarityResponses(BaseModel):\n",
    "    responses: list[TextSimilarityResponse] = Field(\n",
    "        description=\"The similarity responses.\"\n",
    "    )"
   ]
  },
  {
   "cell_type": "code",
   "execution_count": null,
   "metadata": {},
   "outputs": [],
   "source": [
    "from langchain_core.utils.function_calling import convert_to_openai_function\n",
    "from langchain.chains.openai_functions import get_openai_output_parser\n",
    "\n",
    "functions = [convert_to_openai_function(TextSimilarityResponses)]\n",
    "output_parser = get_openai_output_parser([TextSimilarityResponses])\n",
    "\n",
    "chain = (\n",
    "    {\"formatted_sentences\": RunnableLambda(format_sentences)}\n",
    "    | template\n",
    "    | llm.bind(functions=functions)\n",
    "    | output_parser\n",
    ")"
   ]
  },
  {
   "cell_type": "code",
   "execution_count": null,
   "metadata": {},
   "outputs": [],
   "source": [
    "output = chain.invoke(\n",
    "    [\n",
    "        \"That sounds like a good idea!\",\n",
    "        \"That does not sound like a good idea!\",\n",
    "        \"I like your proposal!\",\n",
    "    ]\n",
    ")"
   ]
  },
  {
   "cell_type": "code",
   "execution_count": null,
   "metadata": {},
   "outputs": [],
   "source": [
    "print(output.json(indent=2))"
   ]
  },
  {
   "cell_type": "code",
   "execution_count": null,
   "metadata": {},
   "outputs": [],
   "source": []
  }
 ],
 "metadata": {
  "kernelspec": {
   "display_name": "hackathon",
   "language": "python",
   "name": "python3"
  },
  "language_info": {
   "codemirror_mode": {
    "name": "ipython",
    "version": 3
   },
   "file_extension": ".py",
   "mimetype": "text/x-python",
   "name": "python",
   "nbconvert_exporter": "python",
   "pygments_lexer": "ipython3",
   "version": "3.12.2"
  }
 },
 "nbformat": 4,
 "nbformat_minor": 2
}
