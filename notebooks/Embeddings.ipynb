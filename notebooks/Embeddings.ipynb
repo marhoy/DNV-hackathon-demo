{
 "cells": [
  {
   "cell_type": "code",
   "execution_count": null,
   "metadata": {},
   "outputs": [],
   "source": [
    "%load_ext dotenv\n",
    "%dotenv secrets.env"
   ]
  },
  {
   "cell_type": "code",
   "execution_count": null,
   "metadata": {},
   "outputs": [],
   "source": [
    "import numpy as np\n",
    "from langchain_openai import OpenAIEmbeddings, AzureOpenAIEmbeddings\n",
    "\n",
    "from sklearn.metrics.pairwise import cosine_similarity\n",
    "\n",
    "# Either OpenAI og Azure OpenAI\n",
    "emb_model = OpenAIEmbeddings(model=\"text-embedding-ada-002\")\n",
    "# emb_model = AzureOpenAIEmbeddings(model=\"text-embedding-ada-002\")"
   ]
  },
  {
   "cell_type": "markdown",
   "metadata": {},
   "source": [
    "# Making embedding vectors from text\n",
    "\n",
    "Look at the following texts. Do you expect the embedding-vectors of the two first\n",
    "sentences to be similar? What if you compare them to the third sentence?\n"
   ]
  },
  {
   "cell_type": "code",
   "execution_count": null,
   "metadata": {},
   "outputs": [],
   "source": [
    "vectors = np.array(\n",
    "    emb_model.embed_documents(\n",
    "        [\n",
    "            \"That sounds like a good idea!\",\n",
    "            \"That does not sound like a good idea!\",\n",
    "            \"I like your proposal!\",\n",
    "            \"Would you like a cup of coffee?\",\n",
    "            \"LTCuZ54o FCFS07rK uL7kj4l4 vmfAw9Z7 nhlrIt7f W8OBLBBW.\",\n",
    "        ]\n",
    "    )\n",
    ")\n",
    "print(f\"{vectors.shape=}\")"
   ]
  },
  {
   "cell_type": "code",
   "execution_count": null,
   "metadata": {},
   "outputs": [],
   "source": [
    "np.round(cosine_similarity(vectors), 2)"
   ]
  },
  {
   "cell_type": "code",
   "execution_count": null,
   "metadata": {},
   "outputs": [],
   "source": []
  }
 ],
 "metadata": {
  "kernelspec": {
   "display_name": "hackathon",
   "language": "python",
   "name": "python3"
  },
  "language_info": {
   "codemirror_mode": {
    "name": "ipython",
    "version": 3
   },
   "file_extension": ".py",
   "mimetype": "text/x-python",
   "name": "python",
   "nbconvert_exporter": "python",
   "pygments_lexer": "ipython3",
   "version": "3.12.2"
  }
 },
 "nbformat": 4,
 "nbformat_minor": 2
}
